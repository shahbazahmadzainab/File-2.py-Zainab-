{
  "cells": [
    {
      "cell_type": "markdown",
      "metadata": {
        "id": "JW6mdjHN9NzQ"
      },
      "source": [
        "Use inheritance by creating a Vehicle class with methods like move(); then subclass Car and Boat to extend. Demonstrate method overriding bt redefining move() behavior in Car and Boat."
      ]
    },
    {
      "cell_type": "code",
      "execution_count": 1,
      "metadata": {
        "colab": {
          "base_uri": "https://localhost:8080/"
        },
        "id": "2L1mi0Z6Bvu_",
        "outputId": "d827d2ce-d108-4451-d150-2d79fbedb67f"
      },
      "outputs": [
        {
          "name": "stdout",
          "output_type": "stream",
          "text": [
            "Vehicle is moving.\n",
            "Car is driving on the road.\n",
            "Boat is sailing on the sea.\n"
          ]
        }
      ],
      "source": [
        "class Vehicle:\n",
        "    def move(self):\n",
        "        print(\"Vehicle is moving.\")\n",
        "class Car:\n",
        "    def move(self):\n",
        "        print(\"Car is driving on the road.\")\n",
        "class Boat:\n",
        "    def move(self):\n",
        "        print(\"Boat is sailing on the sea.\")\n",
        "vehicle = Vehicle()\n",
        "car = Car()\n",
        "boat = Boat()\n",
        "vehicle.move()\n",
        "car.move()\n",
        "boat.move()"
      ]
    },
    {
      "cell_type": "markdown",
      "metadata": {
        "id": "3Yr4Jg0d9w8L"
      },
      "source": [
        "Use operator overloading (-add-) in a Vector  class to support vector addition using +."
      ]
    },
    {
      "cell_type": "code",
      "execution_count": 2,
      "metadata": {
        "colab": {
          "base_uri": "https://localhost:8080/"
        },
        "id": "46YOseH5Fejx",
        "outputId": "2972a94d-d959-44c4-b8b2-27dae5233332"
      },
      "outputs": [
        {
          "name": "stdout",
          "output_type": "stream",
          "text": [
            "Vector(6, 4)\n"
          ]
        }
      ],
      "source": [
        "class Vector:\n",
        "   def __init__(self, x, y):\n",
        "       self.x = x\n",
        "       self.y = y\n",
        "   def __add__(self, other):\n",
        "       return Vector(self.x + other.x, self.y + other.y)\n",
        "   def __str__(self):\n",
        "       return f\"Vector({self.x}, {self.y})\"\n",
        "v1 = Vector(2,3)\n",
        "v2 = Vector(4, 1)\n",
        "v3 = v1 + v2\n",
        "print(v3)"
      ]
    },
    {
      "cell_type": "markdown",
      "metadata": {
        "id": "ElfBDwy3-Gt2"
      },
      "source": [
        "Implement polymorphism by creating a function describe_move(obj) that works for both Car and Boat."
      ]
    },
    {
      "cell_type": "code",
      "execution_count": 3,
      "metadata": {
        "colab": {
          "base_uri": "https://localhost:8080/"
        },
        "id": "1XJjK6pOGkpT",
        "outputId": "47842c90-8697-43f6-c948-ba166d39dc82"
      },
      "outputs": [
        {
          "name": "stdout",
          "output_type": "stream",
          "text": [
            "Car is driving on the road.\n",
            "Boat is sailing on the sea.\n"
          ]
        }
      ],
      "source": [
        "def describe_move(obj):\n",
        "  obj.move()\n",
        "describe_move(Car())\n",
        "describe_move(Boat())"
      ]
    },
    {
      "cell_type": "markdown",
      "metadata": {
        "id": "PBzryoyH-dAx"
      },
      "source": [
        "Apply decorators to log every method call in a sample class."
      ]
    },
    {
      "cell_type": "code",
      "execution_count": 4,
      "metadata": {
        "colab": {
          "base_uri": "https://localhost:8080/"
        },
        "id": "OOcwBWMkLRbv",
        "outputId": "89c1a177-cc58-4f77-b6b9-e2aad02c1269"
      },
      "outputs": [
        {
          "name": "stdout",
          "output_type": "stream",
          "text": [
            "Method 'greet' was called.\n",
            "Asslam o Alaikum, Zainab!\n"
          ]
        }
      ],
      "source": [
        "def log_method_call(func):\n",
        "    def wrapper(*args, **kwargs):\n",
        "        print(f\"Method '{func.__name__}' was called.\")\n",
        "        return func(*args, **kwargs)\n",
        "    return wrapper\n",
        "class Sample:\n",
        "  @log_method_call\n",
        "  def greet(self, name):\n",
        "      print(f\"Asslam o Alaikum, {name}!\")\n",
        "s = Sample()\n",
        "s.greet(\"Zainab\")"
      ]
    },
    {
      "cell_type": "markdown",
      "metadata": {
        "id": "ExPZfej4-pq6"
      },
      "source": [
        "Implement method overloading behavior using default parameters or *args / kwargs."
      ]
    },
    {
      "cell_type": "code",
      "execution_count": 5,
      "metadata": {
        "colab": {
          "base_uri": "https://localhost:8080/"
        },
        "id": "rXBA_oBMMd5j",
        "outputId": "9453e658-5282-46dc-e6ef-0b5a6a538c3d"
      },
      "outputs": [
        {
          "name": "stdout",
          "output_type": "stream",
          "text": [
            "Sum of 2 numbers: 8\n",
            "Sum of 4 numbers: 10\n"
          ]
        }
      ],
      "source": [
        "class MathOps:\n",
        "    def add(self, *args):\n",
        "        return sum(args)\n",
        "math_obj = MathOps()\n",
        "print(\"Sum of 2 numbers:\", math_obj.add(5, 3))\n",
        "print(\"Sum of 4 numbers:\", math_obj.add(1, 2, 3, 4))"
      ]
    },
    {
      "cell_type": "markdown",
      "metadata": {
        "id": "LyJh-X7w-6kT"
      },
      "source": [
        "Create a shape abstract class using abc module with an abstract method area(), then subclass Circle and Square. Override str() in both shapes to return friendly descriptions."
      ]
    },
    {
      "cell_type": "code",
      "execution_count": 8,
      "metadata": {
        "colab": {
          "base_uri": "https://localhost:8080/"
        },
        "id": "zs3elxAXNGSo",
        "outputId": "b0492f8e-ac77-4673-ee3e-bf6ff5c77867"
      },
      "outputs": [
        {
          "name": "stdout",
          "output_type": "stream",
          "text": [
            "Circle with radius 5 and area 78.50\n",
            "Square with side 4 and area 16\n"
          ]
        }
      ],
      "source": [
        "from abc import ABC, abstractmethod\n",
        "import math\n",
        "class Shape(ABC):\n",
        "    @abstractmethod\n",
        "    def area(self):\n",
        "        pass\n",
        "class Circle(Shape):\n",
        "    def __init__(self, radius):\n",
        "        self.radius = radius\n",
        "    def area(self):\n",
        "        return 3.14 * self.radius **2\n",
        "    def __str__(self):\n",
        "        return f\"Circle with radius {self.radius} and area {self.area():.2f}\"\n",
        "class Square(Shape):\n",
        "    def __init__(self, side):\n",
        "        self.side = side\n",
        "    def area(self):\n",
        "        return self.side ** 2\n",
        "    def __str__(self):\n",
        "        return f\"Square with side {self.side} and area {self.area()}\"\n",
        "circle = Circle(5)\n",
        "square = Square(4)\n",
        "print(circle)\n",
        "print(square)"
      ]
    },
    {
      "cell_type": "markdown",
      "metadata": {
        "id": "VH8KHBCu_bOd"
      },
      "source": [
        "Use magic methods (_len_()) in a custom Group class to return size."
      ]
    },
    {
      "cell_type": "code",
      "execution_count": 9,
      "metadata": {
        "colab": {
          "base_uri": "https://localhost:8080/"
        },
        "id": "1NWOWd2kPbSh",
        "outputId": "089351a6-1ecb-480a-ea5f-69e7e38aae68"
      },
      "outputs": [
        {
          "name": "stdout",
          "output_type": "stream",
          "text": [
            "3\n"
          ]
        }
      ],
      "source": [
        "class Group:\n",
        "   def __init__(self, members):\n",
        "     self.members = members\n",
        "   def __len__(self):\n",
        "     return len(self.members)\n",
        "team = Group([\"Zainab\", \"Ayesha\", \"Shumaiza\"])\n",
        "print(len(team))"
      ]
    },
    {
      "cell_type": "markdown",
      "metadata": {
        "id": "PIPum7SH_wXP"
      },
      "source": [
        "Apply a class decorator that adds a created_at timestamp attribute to classes upon instantiation using datetime.now()."
      ]
    },
    {
      "cell_type": "code",
      "execution_count": 16,
      "metadata": {
        "colab": {
          "base_uri": "https://localhost:8080/"
        },
        "id": "3NptX5VUQL2g",
        "outputId": "2a229e4a-9a6d-43cf-d78c-22f04118580e"
      },
      "outputs": [
        {
          "name": "stdout",
          "output_type": "stream",
          "text": [
            "Name: Zainab, Created_at: 2025-08-14 16:04:33.856538\n"
          ]
        }
      ],
      "source": [
        "from datetime import datetime\n",
        "def add_timestamp(cls):\n",
        "    class NewClass(cls):\n",
        "        def __init__(self, *args, **kwargs):\n",
        "              super().__init__(*args, **kwargs)\n",
        "              self.created_at = datetime.now()\n",
        "    return NewClass\n",
        "@add_timestamp\n",
        "class Person:\n",
        "    def __init__(self, name):\n",
        "       self.name = name\n",
        "p = Person(\"Zainab\")\n",
        "print(f\"Name: {p.name}, Created_at: {p.created_at}\")"
      ]
    }
  ],
  "metadata": {
    "colab": {
      "provenance": []
    },
    "kernelspec": {
      "display_name": "Python 3",
      "name": "python3"
    },
    "language_info": {
      "name": "python"
    }
  },
  "nbformat": 4,
  "nbformat_minor": 0
}
